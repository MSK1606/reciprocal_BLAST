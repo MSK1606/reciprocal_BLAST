{
 "cells": [
  {
   "cell_type": "code",
   "execution_count": null,
   "metadata": {
    "collapsed": false
   },
   "outputs": [],
   "source": [
    "%load_ext watermark"
   ]
  },
  {
   "cell_type": "code",
   "execution_count": null,
   "metadata": {
    "collapsed": false
   },
   "outputs": [],
   "source": [
    "%watermark -a Schmelling,Nicolas -u -d -v -p matplotlib,numpy,pandas,biopython"
   ]
  },
  {
   "cell_type": "markdown",
   "metadata": {},
   "source": [
    "---\n",
    "Any comments and suggestions or questions?     \n",
    "Please feel free to contact me via [twitter](https://twitter.com/DerSchmelling) or [email](mailto:Nicolas.Schmelling@hhu.de).\n",
    "\n",
    "---"
   ]
  },
  {
   "cell_type": "markdown",
   "metadata": {
    "collapsed": true
   },
   "source": [
    "## Additional Analyses ##\n",
    "\n",
    "In the previous [IPython notebook](1_KaiABC_BLAST_Data_Collection_and_Perprocessing.ipynb) we collected the data and preformed some preprocessing steps. \n",
    "\n",
    "_In this notebook we continued to preprocess the data such that it fits the desired analyses._\n",
    "\n",
    "### _Preprocessing_ ###\n",
    "\n",
    "1. _Grouping the genera in the four groups according to their taxonomy. Groups are Cyanobacteria, Proteobacteria, Archaea, and Other Bacteria. Assign a numeric identifier to each group for coloring._\n",
    "2. _Calculating the identity mean for each protein and genus. A counter of each genus to record the number of individual organisms per genus will be created._\n",
    "3. _Merging the the dataframes for each protein into a single dataframe containing information about protein identity for each protein and genus._\n",
    "4. _Creating another dataframe containing the homologous copy number for each protein in cyanobacteria._"
   ]
  },
  {
   "cell_type": "code",
   "execution_count": null,
   "metadata": {
    "collapsed": false
   },
   "outputs": [],
   "source": [
    "import re\n",
    "\n",
    "import matplotlib.pyplot as plt\n",
    "from matplotlib import ticker\n",
    "import numpy as np\n",
    "import pandas as pd\n",
    "\n",
    "from Bio import SeqIO\n",
    "\n",
    "%matplotlib inline"
   ]
  },
  {
   "cell_type": "code",
   "execution_count": null,
   "metadata": {
    "collapsed": true
   },
   "outputs": [],
   "source": [
    "pd.set_option('mode.chained_assignment',None)"
   ]
  },
  {
   "cell_type": "code",
   "execution_count": null,
   "metadata": {
    "collapsed": true
   },
   "outputs": [],
   "source": [
    "'''\n",
    "The function will group the genera in to four groups according to\n",
    "their taxonomy.Groups are Cyanobacteria, Proteobacteria, \n",
    "Archaea, and Other Bacteria. The function will also assign a numeric \n",
    "identifier to each group for later coloring.\n",
    "'''\n",
    "def categories_taxonomy(df):\n",
    "    \n",
    "    count = 0\n",
    "    \n",
    "    df['colormap'] = np.zeros(len(df.index))\n",
    "    \n",
    "    for i in list(df.taxonomy):\n",
    "        if 'cyanobacteria' in str(i).lower():\n",
    "            df.taxonomy[count] = 1\n",
    "            df['colormap'][count] = 3\n",
    "            count += 1\n",
    "        elif 'proteobacteria' in str(i).lower():\n",
    "            df.taxonomy[count] = 2\n",
    "            df['colormap'][count] = 2\n",
    "            count += 1\n",
    "        elif 'archaea' in str(i).lower():\n",
    "            df.taxonomy[count] = 3\n",
    "            df['colormap'][count] = 1\n",
    "            count += 1\n",
    "        else:\n",
    "            df.taxonomy[count] = 4\n",
    "            df['colormap'][count] = 9\n",
    "            count += 1\n",
    "    \n",
    "    return df\n",
    "\n",
    "'''\n",
    "The function will first call the function categories_taxonomy() and \n",
    "selects only cyanobacteria. Next a counter to record the number protein \n",
    "homologs of individual organisms will be created.\n",
    "'''\n",
    "def create_count_df(path, prot_name, df_merge, how='left'):\n",
    "    \n",
    "    df = pd.read_csv(path)\n",
    "    df = categories_taxonomy(df)\n",
    "    df = df[df.taxonomy == 1]\n",
    "    \n",
    "    leng = prot_name + '_length'\n",
    "    coun = prot_name + '_count'\n",
    "    \n",
    "    df = df[['name',leng]]\n",
    "    df = df[df[leng] > 0].drop_duplicates()\n",
    "    df[coun] = df.groupby(['name']).transform('count')\n",
    "    df = df[['name',coun]].drop_duplicates()\n",
    "    \n",
    "    df_new = pd.merge(df_merge, df, how=how)\n",
    "    \n",
    "    return df_new\n",
    "\n",
    "'''\n",
    "The function will first call the function create_count_df() and further \n",
    "calculate the identity mean for each protein and genus. It will also\n",
    "remove all special characters, change the genus name of all organisms\n",
    "labeled as 'Candidatus', and create a counter for each genus \n",
    "to record the number of individual organisms per genus. \n",
    "'''\n",
    "def prepare_df(df, prot):\n",
    "    \n",
    "    df = categories_taxonomy(df)\n",
    "    df = df[['name','genus','taxonomy','colormap','identity','genome_id']]\n",
    "    \n",
    "    count = 0\n",
    "    for genus in df['genus']:\n",
    "        df['genus'][count] = re.sub('[^a-zA-Z0-9 \\n\\.]', '', genus)\n",
    "        if genus == 'Candidatus':\n",
    "            df['genus'][count] = df['name'][count].split(' ',2)[1]\n",
    "        count += 1\n",
    "        \n",
    "    df = df.groupby(['name','genus','taxonomy','colormap','genome_id']).mean()\n",
    "    df = df.reset_index()\n",
    "    df['%s_count'%prot] = df.drop_duplicates(subset=['name'])\\\n",
    "                                            [['name','genus']]\\\n",
    "                                            .groupby(['genus'])\\\n",
    "                                            .transform('count')\n",
    "    df = df[['name','genus','taxonomy','colormap','identity','%s_count'%prot]]\n",
    "    df.columns = ['name', 'genus', 'taxonomy','colormap',\\\n",
    "                  '%s_identity'%prot,'%s_count'%prot]\n",
    "    df = df.groupby(['name','genus','taxonomy']).mean()\n",
    "    df = df.reset_index()\n",
    "    \n",
    "    return df\n",
    "\n",
    "'''\n",
    "Read the CSV of a given protein and run the prepare_df() function.\n",
    "'''\n",
    "def process_df(prot):\n",
    "    \n",
    "    df = pd.read_csv('../data/%s.csv'%prot)\n",
    "    df = prepare_df(df, prot)\n",
    "    \n",
    "    return df\n",
    "\n",
    "'''\n",
    "The function taxa_per_protein() calculates the percentage of organisms that \n",
    "contain a particular protein in their genome. The organisms are separated\n",
    "into the four groups.\n",
    "'''\n",
    "def taxa_per_protein(protein, option):\n",
    "    \n",
    "    all_count = df_Sy7942_sorted['taxonomy'].value_counts()\n",
    "    \n",
    "    if option == '7942':\n",
    "        cut = df_Sy7942_sorted[['taxonomy','%s_identity'%protein]].dropna()\n",
    "        cut = cut['taxonomy'].value_counts()\n",
    "        print('###############',protein,'###############')\n",
    "        try:\n",
    "            print('Cyanobacteria:\\t',\n",
    "                  (cut[1]+cut[5])/(all_count[1]+all_count[5])*100)\n",
    "        except KeyError:\n",
    "            print('Cyanobacteria:\\t',\n",
    "                  cut[1]/(all_count[1]+all_count[5])*100)\n",
    "        try:\n",
    "            print('Proteobacteria:\\t',\n",
    "                  cut[2]/all_count[2]*100)\n",
    "        except KeyError:\n",
    "            print('Proteobacteria:\\t None')\n",
    "        try:\n",
    "            print('Archaea:\\t',\n",
    "                  cut[3]/all_count[3]*100)\n",
    "        except KeyError:\n",
    "            print('Archaea:\\t None')\n",
    "        try:\n",
    "            print('Other Bacteria:\\t',\n",
    "                  cut[4]/all_count[4]*100)\n",
    "        except KeyError:\n",
    "            print('Other Bacteria:\\t None')\n",
    "        \n",
    "    elif option == '6803':\n",
    "        cut = df_Sy6803_sorted[['taxonomy','%s_identity'%protein]].dropna()\n",
    "        cut = cut['taxonomy'].value_counts()\n",
    "        print('###############',protein,'###############')\n",
    "        try:\n",
    "            print('Cyanobacteria:\\t',\n",
    "                  (cut[1]+cut[5])/(all_count[1]+all_count[5])*100)\n",
    "        except KeyError:\n",
    "            print('Cyanobacteria:\\t',\n",
    "                  cut[1]/(all_count[1]+all_count[5])*100)\n",
    "        try:\n",
    "            print('Proteobacteria:\\t',\n",
    "                  cut[2]/all_count[2]*100)\n",
    "        except KeyError:\n",
    "            print('Proteobacteria:\\t None')\n",
    "        try:\n",
    "            print('Archaea:\\t',\n",
    "                  cut[3]/all_count[3]*100)\n",
    "        except KeyError:\n",
    "            print('Archaea:\\t None')\n",
    "        try:\n",
    "            print('Other Bacteria:\\t',\n",
    "                  cut[4]/all_count[4]*100)\n",
    "        except KeyError:\n",
    "            print('Other Bacteria:\\t None')"
   ]
  },
  {
   "cell_type": "code",
   "execution_count": null,
   "metadata": {
    "collapsed": true
   },
   "outputs": [],
   "source": [
    "# Run the process_df() function for all Synechococcus proteins\n",
    "for protein in ['kaiA', 'kaiB', 'kaiC', 'cpmA', 'ircA', 'pex', 'cdpA',\n",
    "                'ldpA', 'labA', 'lalA', 'cikA', 'sasA', 'nhtA', 'prkE',\n",
    "                'crm', 'rpaA', 'rpaB']:\n",
    "    globals()[protein] = process_df(protein)"
   ]
  },
  {
   "cell_type": "code",
   "execution_count": null,
   "metadata": {
    "collapsed": false
   },
   "outputs": [],
   "source": [
    "kaiC_orgs = list(set(kaiC.genus))\n",
    "\n",
    "not_found = ['Oscillatoriales', 'Opitutaceae', 'halophilic',\n",
    "             'Candidatus', 'Aquifex', 'Filomicrobium', 'Ziziphus']\n",
    "\n",
    "orgs = list(set(kaiC_orgs) - set(not_found))\n",
    "len(orgs)"
   ]
  },
  {
   "cell_type": "code",
   "execution_count": null,
   "metadata": {
    "collapsed": false
   },
   "outputs": [],
   "source": [
    "# Merge the dataframes of each protein into one dataframe.\n",
    "# First merge the dataframes containing information about KaiA, KaiB and KaiC.\n",
    "# Remove all genera that are not in the organism list created before.\n",
    "kaiC = kaiC[kaiC.genus.isin(orgs)]\n",
    "df_Sy7942 = pd.merge(kaiC,kaiA, how='left')\n",
    "df_Sy7942 = pd.merge(df_Sy7942, kaiB, how='left')\n",
    "\n",
    "# Merge the df_Sy7942 dataframe with the rest of the protein dataframes.\n",
    "df_Sy7942 = pd.merge(df_Sy7942, cpmA, how='left')\n",
    "df_Sy7942 = pd.merge(df_Sy7942, ircA, how='left')\n",
    "df_Sy7942 = pd.merge(df_Sy7942, pex, how='left')\n",
    "df_Sy7942 = pd.merge(df_Sy7942, cdpA, how='left')\n",
    "df_Sy7942 = pd.merge(df_Sy7942, ldpA, how='left')\n",
    "df_Sy7942 = pd.merge(df_Sy7942, labA, how='left')\n",
    "df_Sy7942 = pd.merge(df_Sy7942, lalA, how='left')\n",
    "df_Sy7942 = pd.merge(df_Sy7942, cikA, how='left')\n",
    "df_Sy7942 = pd.merge(df_Sy7942, sasA, how='left')\n",
    "df_Sy7942 = pd.merge(df_Sy7942, prkE, how='left')\n",
    "df_Sy7942 = pd.merge(df_Sy7942, nhtA, how='left')\n",
    "df_Sy7942 = pd.merge(df_Sy7942, crm, how='left')\n",
    "df_Sy7942 = pd.merge(df_Sy7942, rpaA, how='left')\n",
    "df_Sy7942 = pd.merge(df_Sy7942, rpaB, how='left')\n",
    "\n",
    "df_Sy7942 = df_Sy7942.groupby(['genus','taxonomy']).mean()\n",
    "df_Sy7942 = df_Sy7942.reset_index()\n",
    "\n",
    "df_Sy7942['rank'] = np.zeros(len(df_Sy7942))\n",
    "\n",
    "# Change the genus of a special cyanobacterium\n",
    "id = df_Sy7942[df_Sy7942.genus == 'cyanobacterium'].taxonomy.index[0]\n",
    "df_Sy7942.genus[id] = 'Endosymbiont'\n",
    "df_Sy7942.taxonomy[id] = 5\n",
    "\n",
    "# Reduce the number of columns down to the one needed for the heatmap.\n",
    "df_Sy7942 = df_Sy7942[['genus', 'taxonomy', 'colormap', 'rank',\n",
    "                       'kaiA_identity', 'kaiB_identity', 'kaiC_identity',\n",
    "                       'pex_identity', 'ldpA_identity', 'prkE_identity',\n",
    "                       'nhtA_identity', 'ircA_identity', 'cdpA_identity',\n",
    "                       'cikA_identity', 'sasA_identity', 'labA_identity',\n",
    "                       'lalA_identity', 'crm_identity', 'rpaA_identity',\n",
    "                       'rpaB_identity', 'cpmA_identity', 'kaiC_count']]"
   ]
  },
  {
   "cell_type": "code",
   "execution_count": null,
   "metadata": {
    "collapsed": true
   },
   "outputs": [],
   "source": [
    "# Read the input data for each single protein and run the two function above.\n",
    "for protein in ['kaiB1', 'kaiB2', 'kaiB3', 'kaiC1', 'kaiC2', 'kaiC3']:\n",
    "    globals()[protein] = process_df(protein)"
   ]
  },
  {
   "cell_type": "code",
   "execution_count": null,
   "metadata": {
    "collapsed": false
   },
   "outputs": [],
   "source": [
    "df_Sy6803 = pd.merge(kaiB1,kaiB2, how='outer')\n",
    "df_Sy6803 = pd.merge(df_Sy6803, kaiB3, how='outer')\n",
    "df_Sy6803 = pd.merge(df_Sy6803, kaiC1, how='outer')\n",
    "df_Sy6803 = pd.merge(df_Sy6803, kaiC2, how='outer')\n",
    "df_Sy6803 = pd.merge(df_Sy6803, kaiC3, how='outer')\n",
    "df_Sy6803 = df_Sy6803.drop_duplicates()\n",
    "df_Sy6803 = df_Sy6803[df_Sy6803.genus.isin(orgs)]\n",
    "\n",
    "df_Sy6803 = df_Sy6803.groupby(['genus','taxonomy']).mean()\n",
    "df_Sy6803 = df_Sy6803.reset_index()\n",
    "\n",
    "df_Sy6803['rank'] = np.zeros(len(df_Sy6803))\n",
    "\n",
    "# Change the genus of a special cyanobacterium\n",
    "id = df_Sy6803[df_Sy6803.genus == 'cyanobacterium'].taxonomy.index[0]\n",
    "df_Sy6803.genus[id] = 'Endosymbiont'\n",
    "df_Sy6803.taxonomy[id] = 5\n",
    "\n",
    "# Reduce the number of columns down to the one needed for the heatmap.\n",
    "df_Sy6803 = df_Sy6803[['genus', 'taxonomy', 'colormap', 'rank',\n",
    "                       'kaiB1_identity', 'kaiB2_identity', 'kaiB3_identity',\n",
    "                       'kaiC1_identity', 'kaiC2_identity', 'kaiC3_identity']]"
   ]
  },
  {
   "cell_type": "code",
   "execution_count": null,
   "metadata": {
    "collapsed": true
   },
   "outputs": [],
   "source": [
    "# Sort dataframe first by the four assigned groups \n",
    "# and then by the KaiC identity.\n",
    "df_Sy7942_sorted = df_Sy7942.sort_values(by=['taxonomy','kaiC_identity'],\\\n",
    "                                         ascending=[True,False])\n",
    "\n",
    "sorterIndex = dict(zip(df_Sy7942_sorted.genus,\\\n",
    "                       range(len(df_Sy7942_sorted.genus))))\n",
    "\n",
    "# Use this order to sort the other dataframe\n",
    "df_Sy6803_sorted = df_Sy6803.copy()\n",
    "df_Sy6803_sorted['rank'] = df_Sy6803_sorted.genus.map(sorterIndex)\n",
    "\n",
    "df_Sy6803_sorted = df_Sy6803_sorted.sort_values(by=['rank'],\\\n",
    "                                                ascending = [True])"
   ]
  },
  {
   "cell_type": "markdown",
   "metadata": {},
   "source": [
    "### Distribution of protein across taxonomic groups"
   ]
  },
  {
   "cell_type": "code",
   "execution_count": null,
   "metadata": {
    "collapsed": false
   },
   "outputs": [],
   "source": [
    "df_Sy7942_sorted['taxonomy'].value_counts()"
   ]
  },
  {
   "cell_type": "code",
   "execution_count": null,
   "metadata": {
    "collapsed": false,
    "scrolled": false
   },
   "outputs": [],
   "source": [
    "# Calculate percentage of Synechococcus proteins in the four groups\n",
    "for protein in ['kaiA','kaiB','kaiC','pex','ldpA','cikA','prkE','nhtA',\n",
    "                'cdpA','ircA','sasA','rpaA','rpaB','labA','lalA','crm','cpmA']:\n",
    "    taxa_per_protein(protein, '7942')"
   ]
  },
  {
   "cell_type": "code",
   "execution_count": null,
   "metadata": {
    "collapsed": false
   },
   "outputs": [],
   "source": [
    "# Calculate percentage of Synechocystis proteins in the four groups\n",
    "for protein in ['kaiB1','kaiC1','kaiB2','kaiC2','kaiB3','kaiC3']:\n",
    "    taxa_per_protein(protein, '6803')"
   ]
  },
  {
   "cell_type": "markdown",
   "metadata": {},
   "source": [
    "### Clock Count Analysis ###\n",
    "__Number of Analyzed Cyanobacteria__"
   ]
  },
  {
   "cell_type": "code",
   "execution_count": null,
   "metadata": {
    "collapsed": false
   },
   "outputs": [],
   "source": [
    "df = pd.read_csv('../clock_counts.csv', index_col='Unnamed: 0')\n",
    "len(df)"
   ]
  },
  {
   "cell_type": "code",
   "execution_count": null,
   "metadata": {
    "collapsed": false
   },
   "outputs": [],
   "source": [
    "df.info()\n",
    "df.iloc[:,1:].drop_duplicates().info()"
   ]
  },
  {
   "cell_type": "code",
   "execution_count": null,
   "metadata": {
    "collapsed": false
   },
   "outputs": [],
   "source": [
    "df = df.sort_values(by=['kaiA_count','kaiC1_count','kaiB1_count','kaiB3_count',\n",
    "                        'kaiC3_count','kaiB2_count','kaiC2_count','cpmA_count',\n",
    "                        'ircA_count','pex_count','nhtA_count','prkE_count',\n",
    "                        'cdpA_count','ldpA_count','cikA_count','labA_count',\n",
    "                        'sasA_count','lalA_count','rpaA_count','rpaB_count',\n",
    "                        'crm_count'],\n",
    "                         ascending=[False,False,False,False,False,False,False,\n",
    "                                    False,False,False,False,False,False,False,\n",
    "                                    False,False,False,False,False,False,False])"
   ]
  },
  {
   "cell_type": "markdown",
   "metadata": {},
   "source": [
    "__Percentage of Clock Proteins in Cyanobacteria__"
   ]
  },
  {
   "cell_type": "code",
   "execution_count": null,
   "metadata": {
    "collapsed": false
   },
   "outputs": [],
   "source": [
    "cyano_clock = df.iloc[:,1:].drop_duplicates()\n",
    "\n",
    "print('In Cyanobacteria the following proteins are'\\\n",
    "      ' found in X % of all analyzed Cyanobacteria')\n",
    "\n",
    "for protein in cyano_clock.columns:\n",
    "    print(protein.split('_')[0]+':\\t',\n",
    "          len(cyano_clock[protein].dropna())/len(cyano_clock)*100,\\\n",
    "          '%')"
   ]
  },
  {
   "cell_type": "markdown",
   "metadata": {},
   "source": [
    "__Multiple KaiBCs__"
   ]
  },
  {
   "cell_type": "code",
   "execution_count": null,
   "metadata": {
    "collapsed": false
   },
   "outputs": [],
   "source": [
    "multi = df[['name','kaiB2_count','kaiC2_count','kaiB3_count','kaiC3_count']]"
   ]
  },
  {
   "cell_type": "code",
   "execution_count": null,
   "metadata": {
    "collapsed": false
   },
   "outputs": [],
   "source": [
    "multi_bc = len(multi.iloc[:,1:][multi.sum(axis=1) > 0])/len(df)*100\n",
    "\n",
    "print('%.2f' % multi_bc,'% of all Cyanobacteria show multiple Kai proteins.')"
   ]
  },
  {
   "cell_type": "markdown",
   "metadata": {},
   "source": [
    "__All KaiBC homologs__"
   ]
  },
  {
   "cell_type": "code",
   "execution_count": null,
   "metadata": {
    "collapsed": false
   },
   "outputs": [],
   "source": [
    "# A list of Cyanobacteria that have all known Kai homologs\n",
    "multi.dropna()"
   ]
  },
  {
   "cell_type": "markdown",
   "metadata": {},
   "source": [
    "### Major Kai Homologoutside of Cyanobacteria ###\n",
    "\n",
    "__Bacteria__"
   ]
  },
  {
   "cell_type": "code",
   "execution_count": null,
   "metadata": {
    "collapsed": false
   },
   "outputs": [],
   "source": [
    "all_bac = df_Sy6803_sorted[(df_Sy6803_sorted['taxonomy'] == 2) | \\\n",
    "                           (df_Sy6803_sorted['taxonomy'] == 4)]\n",
    "len(all_bac)"
   ]
  },
  {
   "cell_type": "code",
   "execution_count": null,
   "metadata": {
    "collapsed": false
   },
   "outputs": [],
   "source": [
    "all_bac.info()"
   ]
  },
  {
   "cell_type": "code",
   "execution_count": null,
   "metadata": {
    "collapsed": false
   },
   "outputs": [],
   "source": [
    "main_kaiC = all_bac['kaiC3_identity'].count()\n",
    "all_kaiC = len(all_bac[all_bac[['kaiC1_identity',\n",
    "                                'kaiC2_identity',\n",
    "                                'kaiC3_identity']].sum(axis=1) > 0])\n",
    "\n",
    "print('KaiC3 is with %.2f' % (main_kaiC/all_kaiC*100),\n",
    "      '% the main KaiC homolog in Bacteria.')"
   ]
  },
  {
   "cell_type": "code",
   "execution_count": null,
   "metadata": {
    "collapsed": false
   },
   "outputs": [],
   "source": [
    "additional_kaiC = all_bac[['kaiC1_identity','kaiC2_identity']]\\\n",
    "                         [(all_bac['kaiC3_identity'].notnull()) &\\\n",
    "                          (all_bac[['kaiC1_identity','kaiC2_identity']]\\\n",
    "                           .sum(axis=1) > 0)]\n",
    "    \n",
    "print('%.2f' % (len(additional_kaiC)/main_kaiC*100), '% of those organisms'\\\n",
    "      ' have additional KaiC homologs (either KaiC1 or KaiC2).')"
   ]
  },
  {
   "cell_type": "code",
   "execution_count": null,
   "metadata": {
    "collapsed": false
   },
   "outputs": [],
   "source": [
    "main_kaiB = all_bac['kaiB2_identity'].count()\n",
    "all_kaiB = len(all_bac[all_bac[['kaiB1_identity',\n",
    "                                'kaiB2_identity',\n",
    "                                'kaiB3_identity']].sum(axis=1) > 0])\n",
    "\n",
    "print('However, KaiB2 is with %.2f' % (main_kaiB/all_kaiB*100),\n",
    "      '% the main KaiB homolog in Bacteria.')"
   ]
  },
  {
   "cell_type": "code",
   "execution_count": null,
   "metadata": {
    "collapsed": false
   },
   "outputs": [],
   "source": [
    "additional_kaiB = all_bac[['kaiB1_identity','kaiB3_identity']]\\\n",
    "                         [(all_bac['kaiB2_identity'].notnull()) &\\\n",
    "                          (all_bac[['kaiB1_identity','kaiB3_identity']]\\\n",
    "                           .sum(axis=1) > 0)]\n",
    "    \n",
    "print('%.2f' % (len(additional_kaiB)/main_kaiB*100), '% of those organisms'\\\n",
    "      ' have additional KaiB homologs (either KaiB1 or KaiB3).')"
   ]
  },
  {
   "cell_type": "markdown",
   "metadata": {},
   "source": [
    "__Archaea__"
   ]
  },
  {
   "cell_type": "code",
   "execution_count": null,
   "metadata": {
    "collapsed": false
   },
   "outputs": [],
   "source": [
    "all_arc = df_Sy6803_sorted[df_Sy6803_sorted['taxonomy'] == 3]\n",
    "len(all_arc)"
   ]
  },
  {
   "cell_type": "code",
   "execution_count": null,
   "metadata": {
    "collapsed": false
   },
   "outputs": [],
   "source": [
    "all_arc.info()"
   ]
  },
  {
   "cell_type": "code",
   "execution_count": null,
   "metadata": {
    "collapsed": false
   },
   "outputs": [],
   "source": [
    "main_kaiC_arc = all_arc['kaiC3_identity'].count()\n",
    "all_kaiC_arc = len(all_arc[all_arc[['kaiC1_identity',\n",
    "                                    'kaiC2_identity',\n",
    "                                    'kaiC3_identity']].sum(axis=1) > 0])\n",
    "\n",
    "print('KaiC3 is with %.2f' % (main_kaiC_arc/all_kaiC_arc*100),\n",
    "      '% the main KaiC homolog in Archaea.')"
   ]
  },
  {
   "cell_type": "code",
   "execution_count": null,
   "metadata": {
    "collapsed": false
   },
   "outputs": [],
   "source": [
    "additional_kaiC_arc = all_arc[['kaiC1_identity','kaiC2_identity']]\\\n",
    "                             [(all_arc['kaiC3_identity'].notnull()) &\\\n",
    "                              (all_arc[['kaiC1_identity','kaiC2_identity']]\\\n",
    "                               .sum(axis=1) > 0)]\n",
    "    \n",
    "print('%.2f' % (len(additional_kaiC_arc)/main_kaiC_arc*100), \n",
    "      '% of those organisms have additional KaiC homologs'\\\n",
    "      ' (either KaiC1 or KaiC2).')"
   ]
  },
  {
   "cell_type": "code",
   "execution_count": null,
   "metadata": {
    "collapsed": false
   },
   "outputs": [],
   "source": [
    "main_kaiB_arc = all_arc['kaiB2_identity'].count()\n",
    "all_kaiB_arc = len(all_arc[all_arc[['kaiB1_identity',\n",
    "                                    'kaiB2_identity',\n",
    "                                    'kaiB3_identity']].sum(axis=1) > 0])\n",
    "\n",
    "print('However, KaiB2 is with %.2f' % (main_kaiB_arc/all_kaiB_arc*100),\n",
    "      '% the main KaiB homolog in Bacteria.')"
   ]
  },
  {
   "cell_type": "code",
   "execution_count": null,
   "metadata": {
    "collapsed": false
   },
   "outputs": [],
   "source": [
    "additional_kaiB_arc = all_arc[['kaiB1_identity','kaiB3_identity']]\\\n",
    "                             [(all_arc['kaiB2_identity'].notnull()) &\\\n",
    "                              (all_arc[['kaiB1_identity','kaiB3_identity']]\\\n",
    "                               .sum(axis=1) > 0)]\n",
    "    \n",
    "\n",
    "print('%.2f' % (len(additional_kaiB_arc)/main_kaiB_arc*100), \n",
    "      '% of those organisms have additional KaiB homologs'\\\n",
    "      ' (either KaiB1 or KaiB3).')"
   ]
  },
  {
   "cell_type": "markdown",
   "metadata": {},
   "source": [
    "### Unusual Kai Proteins in Cyanobacteria ###"
   ]
  },
  {
   "cell_type": "code",
   "execution_count": null,
   "metadata": {
    "collapsed": true
   },
   "outputs": [],
   "source": [
    "kaiA = pd.read_csv('../data/kaiA.csv')\n",
    "kaiA = categories_taxonomy(kaiA)\n",
    "kaiA = kaiA[['name','taxonomy','length','seq']]\n",
    "kaiA.columns = ['name', 'taxonomy','kaiA_length','kaiA_seq']\n",
    "\n",
    "kaiB = pd.read_csv('../data/kaiB.csv')\n",
    "kaiB = categories_taxonomy(kaiB)\n",
    "kaiB = kaiB[['name','taxonomy','length','seq']]\n",
    "kaiB.columns = ['name', 'taxonomy','kaiB_length','kaiB_seq']\n",
    "\n",
    "kaiC = pd.read_csv('../data/kaiC.csv')\n",
    "kaiC = categories_taxonomy(kaiC)\n",
    "kaiC = kaiC[['name','taxonomy','length','seq']]\n",
    "kaiC.columns = ['name', 'taxonomy','kaiC_length','kaiC_seq']"
   ]
  },
  {
   "cell_type": "code",
   "execution_count": null,
   "metadata": {
    "collapsed": true
   },
   "outputs": [],
   "source": [
    "KaiABC = pd.merge(kaiA, kaiB, how='outer')\n",
    "KaiABC = pd.merge(KaiABC, kaiC, how='outer')\n",
    "    \n",
    "KaiABC = KaiABC.drop_duplicates()\n",
    "KaiABC = KaiABC[KaiABC.kaiC_length.notnull()]"
   ]
  },
  {
   "cell_type": "code",
   "execution_count": null,
   "metadata": {
    "collapsed": false,
    "scrolled": false
   },
   "outputs": [],
   "source": [
    "ABC = KaiABC.fillna(0)\n",
    "ABC.head()"
   ]
  },
  {
   "cell_type": "code",
   "execution_count": null,
   "metadata": {
    "collapsed": false
   },
   "outputs": [],
   "source": [
    "# Number of KaiC proteins per Group that are \"outliers\", that is\n",
    "# either shorter than 400 or longer than 600 amino acids.\n",
    "kaiC = pd.read_csv('../data/kaiC.csv')\n",
    "\n",
    "kaiC = categories_taxonomy(kaiC)\n",
    "\n",
    "for tax,group in zip([1,2,3,4],['Cyanobacteria','Proteobacteria',\n",
    "                                'Archaea','Other Bacteria']):\n",
    "    print('###############',group,'###############')\n",
    "    print('Total:\\t\\t',len(kaiC[kaiC['taxonomy'] == tax]))\n",
    "    print('Outliers:\\t',len(kaiC[(kaiC['taxonomy'] == tax) & \\\n",
    "                                 ((kaiC['length'] < 400) | \\\n",
    "                                  (kaiC['length'] > 600))]))"
   ]
  },
  {
   "cell_type": "code",
   "execution_count": null,
   "metadata": {
    "collapsed": false
   },
   "outputs": [],
   "source": [
    "# Bacterial KaiB length in present of unusual KaiCs\n",
    "ABC['kaiB_length'][(ABC['taxonomy'] == 2) & \\\n",
    "                   ((ABC['kaiC_length'] < 400) | \\\n",
    "                   (ABC['kaiC_length'] > 600))]"
   ]
  },
  {
   "cell_type": "code",
   "execution_count": null,
   "metadata": {
    "collapsed": false
   },
   "outputs": [],
   "source": [
    "# Cyanobacterial genera with elongated KaiB1 \n",
    "#(only KaiB homolog with an elongated version)\n",
    "kaiB1 = pd.read_csv('../data/kaiB1.csv')\n",
    "\n",
    "tax_list = []\n",
    "for tax in kaiB1[(kaiB1['taxonomy'].str.contains('Cyano')) & \\\n",
    "                 (kaiB1['length'] > 200)].taxonomy:\n",
    "    tax_list.append(tax.split('; ',6)[5])\n",
    "    \n",
    "print(set(tax_list))#.to_csv('KaiB1_long.csv')\n",
    "\n",
    "for tax in set(tax_list):\n",
    "    print(tax+'\\t',tax_list.count(tax))"
   ]
  },
  {
   "cell_type": "code",
   "execution_count": null,
   "metadata": {
    "collapsed": false
   },
   "outputs": [],
   "source": [
    "# Cyanobacterial genera with elongated KaiB1 \n",
    "#(only KaiB homolog with an elongated version)\n",
    "kaiA = pd.read_csv('../data/kaiA.csv')\n",
    "\n",
    "tax_list = []\n",
    "for tax in kaiA[(kaiA['taxonomy'].str.contains('Cyano')) & \\\n",
    "                (kaiA['length'] < 200)].taxonomy:\n",
    "    tax_list.append(tax.split('; ',6)[5])\n",
    "    \n",
    "print(set(tax_list))#.to_csv('KaiB1_long.csv')\n",
    "\n",
    "for tax in set(tax_list):\n",
    "    print(tax+'\\t',tax_list.count(tax))"
   ]
  },
  {
   "cell_type": "code",
   "execution_count": null,
   "metadata": {
    "collapsed": false
   },
   "outputs": [],
   "source": [
    "# Cyanobacteria with unusual KaiAs and KaiBs\n",
    "ABC[(ABC['kaiA_length'] < 200) & \\\n",
    "    (ABC['kaiB_length'] > 200) & \\\n",
    "    (ABC['taxonomy'] == 1)]"
   ]
  },
  {
   "cell_type": "markdown",
   "metadata": {},
   "source": [
    "### Get Sequences for Multialignments\n",
    "\n",
    "`mkdir align`\n"
   ]
  },
  {
   "cell_type": "raw",
   "metadata": {
    "collapsed": true
   },
   "source": [
    "kaiA = pd.read_csv('../data/kaiA.csv')\n",
    "kaiA = categories_taxonomy(kaiA)\n",
    "kaiA = kaiA[['name','taxonomy','length','seq']]\n",
    "kaiA.columns = ['name', 'taxonomy','kaiA_length','kaiA_seq']\n",
    "\n",
    "kaiC1 = pd.read_csv('../data/kaiC1.csv')\n",
    "kaiC1 = categories_taxonomy(kaiC1)\n",
    "kaiC1 = kaiC1[['name','taxonomy','length','seq']]\n",
    "kaiC1.columns = ['name', 'taxonomy','kaiC1_length','kaiC1_seq']"
   ]
  },
  {
   "cell_type": "raw",
   "metadata": {
    "collapsed": false
   },
   "source": [
    "KaiAC1 = pd.merge(kaiA, kaiC1, how='outer')\n",
    "    \n",
    "KaiAC1 = KaiAC1.drop_duplicates()\n",
    "KaiAC1 = KaiAC1[KaiAC1.kaiC1_length.notnull()]\n",
    "\n",
    "KaiAC1 = KaiAC1[KaiAC1['taxonomy'] == 1]"
   ]
  },
  {
   "cell_type": "raw",
   "metadata": {
    "collapsed": false
   },
   "source": [
    "KaiAC1.info()"
   ]
  },
  {
   "cell_type": "raw",
   "metadata": {
    "collapsed": true
   },
   "source": [
    "kaiAC1_seq = KaiAC1.dropna()"
   ]
  },
  {
   "cell_type": "raw",
   "metadata": {
    "collapsed": true
   },
   "source": [
    "kaiAC1_fasta = open('../align/kaiC1_wA_alignment.fasta','w')\n",
    "\n",
    "for entry in kaiAC1_seq.iterrows():\n",
    "    kaiAC1_fasta.write('>'+entry[1][0].replace(' ','_')+'\\n')\n",
    "    kaiAC1_fasta.write(entry[1][5]+'\\n')\n",
    "    \n",
    "kaiAC1_fasta.close()"
   ]
  },
  {
   "cell_type": "raw",
   "metadata": {
    "collapsed": false
   },
   "source": [
    "kaiwoAC1_seq = KaiAC1[KaiAC1['kaiA_length'].isnull()]"
   ]
  },
  {
   "cell_type": "raw",
   "metadata": {
    "collapsed": true
   },
   "source": [
    "kaiwoAC1_fasta = open('../align/kaiC1_woA_alignment.fasta','w')\n",
    "\n",
    "for entry in kaiwoAC1_seq.iterrows():\n",
    "    kaiwoAC1_fasta.write('>'+entry[1][0].replace(' ','_')+'\\n')\n",
    "    kaiwoAC1_fasta.write(entry[1][5]+'\\n')\n",
    "    \n",
    "kaiwoAC1_fasta.close()"
   ]
  },
  {
   "cell_type": "markdown",
   "metadata": {},
   "source": [
    "#### KaiA"
   ]
  },
  {
   "cell_type": "raw",
   "metadata": {
    "collapsed": true
   },
   "source": [
    "kaiA_seq = pd.read_csv('../data/kaiA.csv')"
   ]
  },
  {
   "cell_type": "raw",
   "metadata": {
    "collapsed": false
   },
   "source": [
    "kaiA_fasta = open('../align/kaiA_alignment.fasta','w')\n",
    "\n",
    "for entry in kaiA_seq.iterrows():\n",
    "    kaiA_fasta.write('>'+entry[1][5]+'|'+entry[1][6]+'|'+entry[1][0].replace(' ','_')+'\\n')\n",
    "    kaiA_fasta.write(entry[1][11]+'\\n')\n",
    "    \n",
    "kaiA_fasta.close()"
   ]
  },
  {
   "cell_type": "markdown",
   "metadata": {},
   "source": [
    "#### KaiB and KaiC (all and cyanobacteria only)"
   ]
  },
  {
   "cell_type": "raw",
   "metadata": {
    "collapsed": false
   },
   "source": [
    "def fasta_for_alignment(option = None):\n",
    "    for file in ['kaiB','kaiC','kaiB1','kaiC1','kaiB2','kaiC2','kaiB3','kaiC3']:\n",
    "        df_seq = pd.read_csv('../data/%s.csv' % file)\n",
    "        \n",
    "        if option:\n",
    "            df_seq = categories_taxonomy(df_seq)\n",
    "            df_seq = df_seq[df_seq['taxonomy'] == 1]\n",
    "            prot_fasta = open('../align/%s_alignment_cyanos.fasta' % file,'w')\n",
    "\n",
    "        else:\n",
    "            prot_fasta = open('../align/%s_alignment_all.fasta' % file,'w')\n",
    "\n",
    "        for entry in df_seq.iterrows():\n",
    "            prot_fasta.write('>'+entry[1][5]+'|'+entry[1][6]+'|'+entry[1][0].replace(' ','_')+'\\n')\n",
    "            prot_fasta.write(entry[1][11]+'\\n')\n",
    "\n",
    "        prot_fasta.close()"
   ]
  },
  {
   "cell_type": "raw",
   "metadata": {
    "collapsed": true
   },
   "source": [
    "fasta_for_alignment()"
   ]
  },
  {
   "cell_type": "raw",
   "metadata": {
    "collapsed": true
   },
   "source": [
    "fasta_for_alignment(True)"
   ]
  },
  {
   "cell_type": "markdown",
   "metadata": {},
   "source": [
    "### Clustal Omega Alignment"
   ]
  },
  {
   "cell_type": "markdown",
   "metadata": {},
   "source": [
    "`docker pull biodckr/clustal-omega`\n",
    "\n",
    "`docker run -it -v ~/align:/data/align biodckr/clustal-omega`\n",
    "\n",
    "1.\n",
    "\n",
    "`clustalo --in align/kaiA_alignment.fasta --infmt fasta --seqtype Protein --dealign --out align/kaiA_aligned.fasta --outfmt fasta --iter 20 --max-guidetree-iterations 1 --force`\n",
    "\n",
    "\n",
    "2.\n",
    "\n",
    "`for f in align/*_cyanos.fasta`\n",
    "\n",
    "`do`\n",
    "\n",
    "`clustalo --in \"$f\" --infmt fasta --seqtype Protein --dealign --out \"${f%_alignment_cyanos.fasta}_aligned_cyanos.fasta\" --outfmt fasta --iter 20 --max-guidetree-iterations 1 --force`\n",
    "\n",
    "`done`\n",
    "\n",
    "3.\n",
    "\n",
    "`for f in align/*_all.fasta`\n",
    "\n",
    "`do`\n",
    "\n",
    "`clustalo --in \"$f\" --infmt fasta --seqtype Protein --dealign --out \"${f%_alignment_all.fasta}_aligned_all.fasta\" --outfmt fasta --iter 20 --max-guidetree-iterations 1 --force`\n",
    "\n",
    "`done`"
   ]
  },
  {
   "cell_type": "markdown",
   "metadata": {
    "collapsed": true
   },
   "source": [
    "---\n",
    "### Previous ###\n",
    "\n",
    "+ [Data Collection and Processing](1_KaiABC_BLAST_Data_Collection_and_Perprocessing.ipynb)\n",
    "+ [Distribution of Circadian Clock Proteins](2_KaiABC_BLAST_Heatmap.ipynb)\n",
    "+ [Length Distribution of KaiA, KaiB, KaiC](3_KaiABC_BLAST_Scatterplot.ipynb)\n",
    "+ [Co-Occurence of Circadian Clock Proteins in Cyanobacteria](4_KaiABC_BLAST_FisherTest.ipynb)\n",
    "---"
   ]
  }
 ],
 "metadata": {
  "kernelspec": {
   "display_name": "Python 3",
   "language": "python",
   "name": "python3"
  },
  "language_info": {
   "codemirror_mode": {
    "name": "ipython",
    "version": 3
   },
   "file_extension": ".py",
   "mimetype": "text/x-python",
   "name": "python",
   "nbconvert_exporter": "python",
   "pygments_lexer": "ipython3",
   "version": "3.5.2"
  }
 },
 "nbformat": 4,
 "nbformat_minor": 0
}
